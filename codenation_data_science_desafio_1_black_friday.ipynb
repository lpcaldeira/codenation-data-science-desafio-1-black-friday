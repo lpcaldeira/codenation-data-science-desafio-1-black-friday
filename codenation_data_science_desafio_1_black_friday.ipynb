{
  "nbformat": 4,
  "nbformat_minor": 0,
  "metadata": {
    "kernelspec": {
      "display_name": "Python 3",
      "language": "python",
      "name": "python3"
    },
    "language_info": {
      "codemirror_mode": {
        "name": "ipython",
        "version": 3
      },
      "file_extension": ".py",
      "mimetype": "text/x-python",
      "name": "python",
      "nbconvert_exporter": "python",
      "pygments_lexer": "ipython3",
      "version": "3.7.3"
    },
    "colab": {
      "name": "codenation-data-science-desafio-1-black-friday.ipynb",
      "provenance": [],
      "collapsed_sections": [],
      "toc_visible": true
    }
  },
  "cells": [
    {
      "cell_type": "markdown",
      "metadata": {
        "id": "9gDsK_42VUDc",
        "colab_type": "text"
      },
      "source": [
        "# CodeNation - Pré-processamento de dados - Black Friday\n",
        "\n",
        "Olá cientista, tudo bem com você? Esse foi o primeiro desafio proposto pela **CodeNation** da **Aceleração em Data Science**.\n",
        "\n",
        "Para esse desafio, vamos trabalhar com o data set **[Black Friday](https://github.com/lpcaldeira/codenation-data-science-desafio-1-black-friday/arquivos/black_friday.csv)**, que reúne dados sobre transações de compras em uma loja de varejo.\n",
        "\n",
        "Aqui vou mostrar um guia de como alcancei **100%**, acertando as 10 questões.\n",
        "\n",
        "Caso queira as informações sobre o desafio e os arquivos, basta dar uma olhada no meu repositório do git [CodeNation-Desafio-1-Black-Friday](https://github.com/lpcaldeira/codenation-data-science-desafio-1-black-friday)\n",
        "\n",
        "- Este tutorial foi feito utilizando o Google Colab\n",
        "- Baixe os arquivos no repositório citado acima e faça upload do **black_friday.csv** no menu lateral a esquerda em Files > Upload"
      ]
    },
    {
      "cell_type": "markdown",
      "metadata": {
        "id": "G5iRPddbVUDe",
        "colab_type": "text"
      },
      "source": [
        "##Visão geral sobre os dados"
      ]
    },
    {
      "cell_type": "markdown",
      "metadata": {
        "id": "4u2lY8PeSHir",
        "colab_type": "text"
      },
      "source": [
        "Importando as libs que serão utilizadas"
      ]
    },
    {
      "cell_type": "code",
      "metadata": {
        "id": "pXlomqYwVUDf",
        "colab_type": "code",
        "colab": {}
      },
      "source": [
        "import pandas as pd\n",
        "import numpy as np"
      ],
      "execution_count": 0,
      "outputs": []
    },
    {
      "cell_type": "markdown",
      "metadata": {
        "id": "TGMSUhcGSNEX",
        "colab_type": "text"
      },
      "source": [
        "Importando o arquivo"
      ]
    },
    {
      "cell_type": "code",
      "metadata": {
        "id": "L8dDVVrXVUDj",
        "colab_type": "code",
        "colab": {
          "base_uri": "https://localhost:8080/",
          "height": 292
        },
        "outputId": "c6992c8d-c960-4ad4-d01c-66c383520b81"
      },
      "source": [
        "bf = pd.read_csv(\"black_friday.csv\")\n",
        "bf.head()"
      ],
      "execution_count": 3,
      "outputs": [
        {
          "output_type": "execute_result",
          "data": {
            "text/html": [
              "<div>\n",
              "<style scoped>\n",
              "    .dataframe tbody tr th:only-of-type {\n",
              "        vertical-align: middle;\n",
              "    }\n",
              "\n",
              "    .dataframe tbody tr th {\n",
              "        vertical-align: top;\n",
              "    }\n",
              "\n",
              "    .dataframe thead th {\n",
              "        text-align: right;\n",
              "    }\n",
              "</style>\n",
              "<table border=\"1\" class=\"dataframe\">\n",
              "  <thead>\n",
              "    <tr style=\"text-align: right;\">\n",
              "      <th></th>\n",
              "      <th>User_ID</th>\n",
              "      <th>Product_ID</th>\n",
              "      <th>Gender</th>\n",
              "      <th>Age</th>\n",
              "      <th>Occupation</th>\n",
              "      <th>City_Category</th>\n",
              "      <th>Stay_In_Current_City_Years</th>\n",
              "      <th>Marital_Status</th>\n",
              "      <th>Product_Category_1</th>\n",
              "      <th>Product_Category_2</th>\n",
              "      <th>Product_Category_3</th>\n",
              "      <th>Purchase</th>\n",
              "    </tr>\n",
              "  </thead>\n",
              "  <tbody>\n",
              "    <tr>\n",
              "      <th>0</th>\n",
              "      <td>1000001</td>\n",
              "      <td>P00069042</td>\n",
              "      <td>F</td>\n",
              "      <td>0-17</td>\n",
              "      <td>10</td>\n",
              "      <td>A</td>\n",
              "      <td>2</td>\n",
              "      <td>0</td>\n",
              "      <td>3</td>\n",
              "      <td>NaN</td>\n",
              "      <td>NaN</td>\n",
              "      <td>8370</td>\n",
              "    </tr>\n",
              "    <tr>\n",
              "      <th>1</th>\n",
              "      <td>1000001</td>\n",
              "      <td>P00248942</td>\n",
              "      <td>F</td>\n",
              "      <td>0-17</td>\n",
              "      <td>10</td>\n",
              "      <td>A</td>\n",
              "      <td>2</td>\n",
              "      <td>0</td>\n",
              "      <td>1</td>\n",
              "      <td>6.0</td>\n",
              "      <td>14.0</td>\n",
              "      <td>15200</td>\n",
              "    </tr>\n",
              "    <tr>\n",
              "      <th>2</th>\n",
              "      <td>1000001</td>\n",
              "      <td>P00087842</td>\n",
              "      <td>F</td>\n",
              "      <td>0-17</td>\n",
              "      <td>10</td>\n",
              "      <td>A</td>\n",
              "      <td>2</td>\n",
              "      <td>0</td>\n",
              "      <td>12</td>\n",
              "      <td>NaN</td>\n",
              "      <td>NaN</td>\n",
              "      <td>1422</td>\n",
              "    </tr>\n",
              "    <tr>\n",
              "      <th>3</th>\n",
              "      <td>1000001</td>\n",
              "      <td>P00085442</td>\n",
              "      <td>F</td>\n",
              "      <td>0-17</td>\n",
              "      <td>10</td>\n",
              "      <td>A</td>\n",
              "      <td>2</td>\n",
              "      <td>0</td>\n",
              "      <td>12</td>\n",
              "      <td>14.0</td>\n",
              "      <td>NaN</td>\n",
              "      <td>1057</td>\n",
              "    </tr>\n",
              "    <tr>\n",
              "      <th>4</th>\n",
              "      <td>1000002</td>\n",
              "      <td>P00285442</td>\n",
              "      <td>M</td>\n",
              "      <td>55+</td>\n",
              "      <td>16</td>\n",
              "      <td>C</td>\n",
              "      <td>4+</td>\n",
              "      <td>0</td>\n",
              "      <td>8</td>\n",
              "      <td>NaN</td>\n",
              "      <td>NaN</td>\n",
              "      <td>7969</td>\n",
              "    </tr>\n",
              "  </tbody>\n",
              "</table>\n",
              "</div>"
            ],
            "text/plain": [
              "   User_ID Product_ID Gender  ... Product_Category_2  Product_Category_3 Purchase\n",
              "0  1000001  P00069042      F  ...                NaN                 NaN     8370\n",
              "1  1000001  P00248942      F  ...                6.0                14.0    15200\n",
              "2  1000001  P00087842      F  ...                NaN                 NaN     1422\n",
              "3  1000001  P00085442      F  ...               14.0                 NaN     1057\n",
              "4  1000002  P00285442      M  ...                NaN                 NaN     7969\n",
              "\n",
              "[5 rows x 12 columns]"
            ]
          },
          "metadata": {
            "tags": []
          },
          "execution_count": 3
        }
      ]
    },
    {
      "cell_type": "markdown",
      "metadata": {
        "id": "UWtPXau8qSKx",
        "colab_type": "text"
      },
      "source": [
        "Informações gerais do dataset."
      ]
    },
    {
      "cell_type": "code",
      "metadata": {
        "id": "tqc5_4KLpoBE",
        "colab_type": "code",
        "outputId": "98433b52-c3d1-4e11-8e57-99ce9015b92b",
        "colab": {
          "base_uri": "https://localhost:8080/",
          "height": 340
        }
      },
      "source": [
        "bf.info()"
      ],
      "execution_count": 31,
      "outputs": [
        {
          "output_type": "stream",
          "text": [
            "<class 'pandas.core.frame.DataFrame'>\n",
            "RangeIndex: 537577 entries, 0 to 537576\n",
            "Data columns (total 12 columns):\n",
            " #   Column                      Non-Null Count   Dtype  \n",
            "---  ------                      --------------   -----  \n",
            " 0   User_ID                     537577 non-null  int64  \n",
            " 1   Product_ID                  537577 non-null  object \n",
            " 2   Gender                      537577 non-null  object \n",
            " 3   Age                         537577 non-null  object \n",
            " 4   Occupation                  537577 non-null  int64  \n",
            " 5   City_Category               537577 non-null  object \n",
            " 6   Stay_In_Current_City_Years  537577 non-null  object \n",
            " 7   Marital_Status              537577 non-null  int64  \n",
            " 8   Product_Category_1          537577 non-null  int64  \n",
            " 9   Product_Category_2          370591 non-null  float64\n",
            " 10  Product_Category_3          164278 non-null  float64\n",
            " 11  Purchase                    537577 non-null  int64  \n",
            "dtypes: float64(2), int64(5), object(5)\n",
            "memory usage: 49.2+ MB\n"
          ],
          "name": "stdout"
        }
      ]
    },
    {
      "cell_type": "markdown",
      "metadata": {
        "id": "CNvp2inhs2tP",
        "colab_type": "text"
      },
      "source": [
        "Podemos ver que na informação _Non-Null_ acima, os campos Product_Category_2 e Product_Category_3 possuem muitos valores faltantes."
      ]
    },
    {
      "cell_type": "code",
      "metadata": {
        "id": "3uwCPSYrTY91",
        "colab_type": "code",
        "colab": {
          "base_uri": "https://localhost:8080/",
          "height": 238
        },
        "outputId": "a0b3612f-0c7c-444b-b2a3-43fe4f4918a5"
      },
      "source": [
        "bf.isna().any()"
      ],
      "execution_count": 5,
      "outputs": [
        {
          "output_type": "execute_result",
          "data": {
            "text/plain": [
              "User_ID                       False\n",
              "Product_ID                    False\n",
              "Gender                        False\n",
              "Age                           False\n",
              "Occupation                    False\n",
              "City_Category                 False\n",
              "Stay_In_Current_City_Years    False\n",
              "Marital_Status                False\n",
              "Product_Category_1            False\n",
              "Product_Category_2             True\n",
              "Product_Category_3             True\n",
              "Purchase                      False\n",
              "dtype: bool"
            ]
          },
          "metadata": {
            "tags": []
          },
          "execution_count": 5
        }
      ]
    },
    {
      "cell_type": "markdown",
      "metadata": {
        "id": "FF8OmOhhTpON",
        "colab_type": "text"
      },
      "source": [
        "Se precisássemos montar modelos a partir deste dataset, estes nulos poderiam ser um problema, mas para estas questões, isso não será necessário."
      ]
    },
    {
      "cell_type": "markdown",
      "metadata": {
        "id": "mMgEFT1lT7I-",
        "colab_type": "text"
      },
      "source": [
        "## EDA"
      ]
    },
    {
      "cell_type": "markdown",
      "metadata": {
        "id": "lMmAljs-UENQ",
        "colab_type": "text"
      },
      "source": [
        "Importando as libs gráficas"
      ]
    },
    {
      "cell_type": "code",
      "metadata": {
        "id": "HKVhvKBNpoX-",
        "colab_type": "code",
        "colab": {}
      },
      "source": [
        "import seaborn as sns\n",
        "import matplotlib as mlp\n",
        "import matplotlib.pyplot as plt;"
      ],
      "execution_count": 0,
      "outputs": []
    },
    {
      "cell_type": "markdown",
      "metadata": {
        "id": "NKpKMNsRUHVk",
        "colab_type": "text"
      },
      "source": [
        "Abaixo podemos ver a disparidade entre homens e mulheres que realizaram compras e as suas idades."
      ]
    },
    {
      "cell_type": "code",
      "metadata": {
        "id": "tSTHwj4IUalh",
        "colab_type": "code",
        "colab": {
          "base_uri": "https://localhost:8080/",
          "height": 279
        },
        "outputId": "69d56c1e-cc45-4e3e-bc30-761f42561908"
      },
      "source": [
        "sns.countplot(bf['Age'].sort_values(), hue = bf['Gender']);"
      ],
      "execution_count": 33,
      "outputs": [
        {
          "output_type": "display_data",
          "data": {
            "image/png": "[encoded data removed]",
            "text/plain": [
              "<Figure size 432x288 with 1 Axes>"
            ]
          },
          "metadata": {
            "tags": [],
            "needs_background": "light"
          }
        }
      ]
    },
    {
      "cell_type": "markdown",
      "metadata": {
        "id": "d2ku8dIqVg8b",
        "colab_type": "text"
      },
      "source": [
        "Checando a dependência entre gênero e valor da compra"
      ]
    },
    {
      "cell_type": "code",
      "metadata": {
        "id": "IfddYO4jXbsC",
        "colab_type": "code",
        "colab": {
          "base_uri": "https://localhost:8080/",
          "height": 142
        },
        "outputId": "b75c964d-124a-47f9-ec7f-0f9fe4218c2b"
      },
      "source": [
        "bf[['Gender', 'Purchase']].groupby('Gender').mean()"
      ],
      "execution_count": 8,
      "outputs": [
        {
          "output_type": "execute_result",
          "data": {
            "text/html": [
              "<div>\n",
              "<style scoped>\n",
              "    .dataframe tbody tr th:only-of-type {\n",
              "        vertical-align: middle;\n",
              "    }\n",
              "\n",
              "    .dataframe tbody tr th {\n",
              "        vertical-align: top;\n",
              "    }\n",
              "\n",
              "    .dataframe thead th {\n",
              "        text-align: right;\n",
              "    }\n",
              "</style>\n",
              "<table border=\"1\" class=\"dataframe\">\n",
              "  <thead>\n",
              "    <tr style=\"text-align: right;\">\n",
              "      <th></th>\n",
              "      <th>Purchase</th>\n",
              "    </tr>\n",
              "    <tr>\n",
              "      <th>Gender</th>\n",
              "      <th></th>\n",
              "    </tr>\n",
              "  </thead>\n",
              "  <tbody>\n",
              "    <tr>\n",
              "      <th>F</th>\n",
              "      <td>8809.761349</td>\n",
              "    </tr>\n",
              "    <tr>\n",
              "      <th>M</th>\n",
              "      <td>9504.771713</td>\n",
              "    </tr>\n",
              "  </tbody>\n",
              "</table>\n",
              "</div>"
            ],
            "text/plain": [
              "           Purchase\n",
              "Gender             \n",
              "F       8809.761349\n",
              "M       9504.771713"
            ]
          },
          "metadata": {
            "tags": []
          },
          "execution_count": 8
        }
      ]
    },
    {
      "cell_type": "markdown",
      "metadata": {
        "id": "nN6P9erCZXzC",
        "colab_type": "text"
      },
      "source": [
        "Conseguimos ver que a média distorce bastante o valor"
      ]
    },
    {
      "cell_type": "code",
      "metadata": {
        "id": "ip-G45JgZZK9",
        "colab_type": "code",
        "colab": {
          "base_uri": "https://localhost:8080/",
          "height": 142
        },
        "outputId": "7c380e4c-ba7e-4fa4-e87e-c4bece666226"
      },
      "source": [
        "bf[['Gender', 'Purchase']].groupby('Gender').sum()"
      ],
      "execution_count": 9,
      "outputs": [
        {
          "output_type": "execute_result",
          "data": {
            "text/html": [
              "<div>\n",
              "<style scoped>\n",
              "    .dataframe tbody tr th:only-of-type {\n",
              "        vertical-align: middle;\n",
              "    }\n",
              "\n",
              "    .dataframe tbody tr th {\n",
              "        vertical-align: top;\n",
              "    }\n",
              "\n",
              "    .dataframe thead th {\n",
              "        text-align: right;\n",
              "    }\n",
              "</style>\n",
              "<table border=\"1\" class=\"dataframe\">\n",
              "  <thead>\n",
              "    <tr style=\"text-align: right;\">\n",
              "      <th></th>\n",
              "      <th>Purchase</th>\n",
              "    </tr>\n",
              "    <tr>\n",
              "      <th>Gender</th>\n",
              "      <th></th>\n",
              "    </tr>\n",
              "  </thead>\n",
              "  <tbody>\n",
              "    <tr>\n",
              "      <th>F</th>\n",
              "      <td>1164624021</td>\n",
              "    </tr>\n",
              "    <tr>\n",
              "      <th>M</th>\n",
              "      <td>3853044357</td>\n",
              "    </tr>\n",
              "  </tbody>\n",
              "</table>\n",
              "</div>"
            ],
            "text/plain": [
              "          Purchase\n",
              "Gender            \n",
              "F       1164624021\n",
              "M       3853044357"
            ]
          },
          "metadata": {
            "tags": []
          },
          "execution_count": 9
        }
      ]
    },
    {
      "cell_type": "markdown",
      "metadata": {
        "id": "WXzmJmWXZpjY",
        "colab_type": "text"
      },
      "source": [
        "Podemos fazer o mesmo para saber qual a Idade com maior poder aquisitivo neste período do ano.\n",
        "\n",
        "Ou mesmo para ocupação e cidade."
      ]
    },
    {
      "cell_type": "code",
      "metadata": {
        "id": "9rjk_VjtZrd_",
        "colab_type": "code",
        "colab": {
          "base_uri": "https://localhost:8080/",
          "height": 297
        },
        "outputId": "53c03f80-5dba-4397-b41d-c3a223d36b32"
      },
      "source": [
        "bf[['Age', 'Purchase']].groupby('Age').sum().sort_values(by = 'Purchase', ascending = False)"
      ],
      "execution_count": 10,
      "outputs": [
        {
          "output_type": "execute_result",
          "data": {
            "text/html": [
              "<div>\n",
              "<style scoped>\n",
              "    .dataframe tbody tr th:only-of-type {\n",
              "        vertical-align: middle;\n",
              "    }\n",
              "\n",
              "    .dataframe tbody tr th {\n",
              "        vertical-align: top;\n",
              "    }\n",
              "\n",
              "    .dataframe thead th {\n",
              "        text-align: right;\n",
              "    }\n",
              "</style>\n",
              "<table border=\"1\" class=\"dataframe\">\n",
              "  <thead>\n",
              "    <tr style=\"text-align: right;\">\n",
              "      <th></th>\n",
              "      <th>Purchase</th>\n",
              "    </tr>\n",
              "    <tr>\n",
              "      <th>Age</th>\n",
              "      <th></th>\n",
              "    </tr>\n",
              "  </thead>\n",
              "  <tbody>\n",
              "    <tr>\n",
              "      <th>26-35</th>\n",
              "      <td>1999749106</td>\n",
              "    </tr>\n",
              "    <tr>\n",
              "      <th>36-45</th>\n",
              "      <td>1010649565</td>\n",
              "    </tr>\n",
              "    <tr>\n",
              "      <th>18-25</th>\n",
              "      <td>901669280</td>\n",
              "    </tr>\n",
              "    <tr>\n",
              "      <th>46-50</th>\n",
              "      <td>413418223</td>\n",
              "    </tr>\n",
              "    <tr>\n",
              "      <th>51-55</th>\n",
              "      <td>361908356</td>\n",
              "    </tr>\n",
              "    <tr>\n",
              "      <th>55+</th>\n",
              "      <td>197614842</td>\n",
              "    </tr>\n",
              "    <tr>\n",
              "      <th>0-17</th>\n",
              "      <td>132659006</td>\n",
              "    </tr>\n",
              "  </tbody>\n",
              "</table>\n",
              "</div>"
            ],
            "text/plain": [
              "         Purchase\n",
              "Age              \n",
              "26-35  1999749106\n",
              "36-45  1010649565\n",
              "18-25   901669280\n",
              "46-50   413418223\n",
              "51-55   361908356\n",
              "55+     197614842\n",
              "0-17    132659006"
            ]
          },
          "metadata": {
            "tags": []
          },
          "execution_count": 10
        }
      ]
    },
    {
      "cell_type": "markdown",
      "metadata": {
        "id": "2kHxKXEadh5m",
        "colab_type": "text"
      },
      "source": [
        "As análises acima foram apenas para entender um pouco melhor o *dataset*.\n",
        "\n",
        "Agora vamos ver as questões solicitadas."
      ]
    },
    {
      "cell_type": "markdown",
      "metadata": {
        "id": "QeBz5t13VUDr",
        "colab_type": "text"
      },
      "source": [
        "## Questão 1\n",
        "\n",
        "Quantas observações e quantas colunas há no dataset? Responda no formato de uma tuple `(n_observacoes, n_colunas)`."
      ]
    },
    {
      "cell_type": "code",
      "metadata": {
        "id": "tLYzKvH6VUDs",
        "colab_type": "code",
        "outputId": "a33d6613-873f-4f90-a07e-03c1e87bebe9",
        "colab": {
          "base_uri": "https://localhost:8080/",
          "height": 34
        }
      },
      "source": [
        "def q1():\n",
        "    # observações são as linhas\n",
        "    return bf.shape\n",
        "\n",
        "q1()"
      ],
      "execution_count": 11,
      "outputs": [
        {
          "output_type": "execute_result",
          "data": {
            "text/plain": [
              "(537577, 12)"
            ]
          },
          "metadata": {
            "tags": []
          },
          "execution_count": 11
        }
      ]
    },
    {
      "cell_type": "markdown",
      "metadata": {
        "id": "dt29xI2uVUDx",
        "colab_type": "text"
      },
      "source": [
        "## Questão 2\n",
        "\n",
        "Há quantas mulheres com idade entre 26 e 35 anos no dataset? Responda como um único escalar."
      ]
    },
    {
      "cell_type": "markdown",
      "metadata": {
        "id": "8GN7qMlHq7M1",
        "colab_type": "text"
      },
      "source": [
        "Observando os valores únicos no campo Age (idade)"
      ]
    },
    {
      "cell_type": "code",
      "metadata": {
        "id": "aI7C_yjuqoE4",
        "colab_type": "code",
        "outputId": "beb6da3a-1aa4-4ec1-99aa-985c275098fe",
        "colab": {
          "base_uri": "https://localhost:8080/",
          "height": 51
        }
      },
      "source": [
        "print(\"Valores únicos: \", bf.Age.sort_values().unique())\n",
        "print(\"Quantidade de valores únicos: \", bf.Age.nunique())"
      ],
      "execution_count": 12,
      "outputs": [
        {
          "output_type": "stream",
          "text": [
            "Valores únicos:  ['0-17' '18-25' '26-35' '36-45' '46-50' '51-55' '55+']\n",
            "Quantidade de valores únicos:  7\n"
          ],
          "name": "stdout"
        }
      ]
    },
    {
      "cell_type": "markdown",
      "metadata": {
        "id": "mN9mlEShrFpP",
        "colab_type": "text"
      },
      "source": [
        "Observando os valores únicos no campo Gender (sexo)"
      ]
    },
    {
      "cell_type": "code",
      "metadata": {
        "id": "rpkw1fTLquYz",
        "colab_type": "code",
        "outputId": "3e061fe1-882f-4c9a-84dc-3d59f84b0b71",
        "colab": {
          "base_uri": "https://localhost:8080/",
          "height": 51
        }
      },
      "source": [
        "print(\"Valores únicos: \", bf.Gender.unique())\n",
        "print(\"Quantidade de valores únicos: \", bf.Gender.nunique())"
      ],
      "execution_count": 13,
      "outputs": [
        {
          "output_type": "stream",
          "text": [
            "Valores únicos:  ['F' 'M']\n",
            "Quantidade de valores únicos:  2\n"
          ],
          "name": "stdout"
        }
      ]
    },
    {
      "cell_type": "markdown",
      "metadata": {
        "id": "b0HnLYXPtvki",
        "colab_type": "text"
      },
      "source": [
        "Será que existem mulheres que se enquadram nesta idade?"
      ]
    },
    {
      "cell_type": "code",
      "metadata": {
        "id": "Rq2zTB3N4frg",
        "colab_type": "code",
        "outputId": "6a7cf8f3-5a07-4629-9388-9b2cf6a4cf0f",
        "colab": {
          "base_uri": "https://localhost:8080/",
          "height": 609
        }
      },
      "source": [
        "# Se você adicionar a função .shape[0] no fim deste comando abaixo, já vai obter a resposta para esta questão\n",
        "bf.query('Gender == \"F\" & Age == \"26-35\"')"
      ],
      "execution_count": 14,
      "outputs": [
        {
          "output_type": "execute_result",
          "data": {
            "text/html": [
              "<div>\n",
              "<style scoped>\n",
              "    .dataframe tbody tr th:only-of-type {\n",
              "        vertical-align: middle;\n",
              "    }\n",
              "\n",
              "    .dataframe tbody tr th {\n",
              "        vertical-align: top;\n",
              "    }\n",
              "\n",
              "    .dataframe thead th {\n",
              "        text-align: right;\n",
              "    }\n",
              "</style>\n",
              "<table border=\"1\" class=\"dataframe\">\n",
              "  <thead>\n",
              "    <tr style=\"text-align: right;\">\n",
              "      <th></th>\n",
              "      <th>User_ID</th>\n",
              "      <th>Product_ID</th>\n",
              "      <th>Gender</th>\n",
              "      <th>Age</th>\n",
              "      <th>Occupation</th>\n",
              "      <th>City_Category</th>\n",
              "      <th>Stay_In_Current_City_Years</th>\n",
              "      <th>Marital_Status</th>\n",
              "      <th>Product_Category_1</th>\n",
              "      <th>Product_Category_2</th>\n",
              "      <th>Product_Category_3</th>\n",
              "      <th>Purchase</th>\n",
              "    </tr>\n",
              "  </thead>\n",
              "  <tbody>\n",
              "    <tr>\n",
              "      <th>47</th>\n",
              "      <td>1000011</td>\n",
              "      <td>P00192642</td>\n",
              "      <td>F</td>\n",
              "      <td>26-35</td>\n",
              "      <td>1</td>\n",
              "      <td>C</td>\n",
              "      <td>1</td>\n",
              "      <td>0</td>\n",
              "      <td>8</td>\n",
              "      <td>17.0</td>\n",
              "      <td>NaN</td>\n",
              "      <td>6171</td>\n",
              "    </tr>\n",
              "    <tr>\n",
              "      <th>48</th>\n",
              "      <td>1000011</td>\n",
              "      <td>P00110842</td>\n",
              "      <td>F</td>\n",
              "      <td>26-35</td>\n",
              "      <td>1</td>\n",
              "      <td>C</td>\n",
              "      <td>1</td>\n",
              "      <td>0</td>\n",
              "      <td>1</td>\n",
              "      <td>2.0</td>\n",
              "      <td>5.0</td>\n",
              "      <td>19327</td>\n",
              "    </tr>\n",
              "    <tr>\n",
              "      <th>49</th>\n",
              "      <td>1000011</td>\n",
              "      <td>P00189642</td>\n",
              "      <td>F</td>\n",
              "      <td>26-35</td>\n",
              "      <td>1</td>\n",
              "      <td>C</td>\n",
              "      <td>1</td>\n",
              "      <td>0</td>\n",
              "      <td>8</td>\n",
              "      <td>13.0</td>\n",
              "      <td>NaN</td>\n",
              "      <td>8027</td>\n",
              "    </tr>\n",
              "    <tr>\n",
              "      <th>124</th>\n",
              "      <td>1000024</td>\n",
              "      <td>P00346642</td>\n",
              "      <td>F</td>\n",
              "      <td>26-35</td>\n",
              "      <td>7</td>\n",
              "      <td>A</td>\n",
              "      <td>3</td>\n",
              "      <td>1</td>\n",
              "      <td>8</td>\n",
              "      <td>NaN</td>\n",
              "      <td>NaN</td>\n",
              "      <td>2230</td>\n",
              "    </tr>\n",
              "    <tr>\n",
              "      <th>125</th>\n",
              "      <td>1000024</td>\n",
              "      <td>P00205642</td>\n",
              "      <td>F</td>\n",
              "      <td>26-35</td>\n",
              "      <td>7</td>\n",
              "      <td>A</td>\n",
              "      <td>3</td>\n",
              "      <td>1</td>\n",
              "      <td>5</td>\n",
              "      <td>8.0</td>\n",
              "      <td>NaN</td>\n",
              "      <td>6940</td>\n",
              "    </tr>\n",
              "    <tr>\n",
              "      <th>...</th>\n",
              "      <td>...</td>\n",
              "      <td>...</td>\n",
              "      <td>...</td>\n",
              "      <td>...</td>\n",
              "      <td>...</td>\n",
              "      <td>...</td>\n",
              "      <td>...</td>\n",
              "      <td>...</td>\n",
              "      <td>...</td>\n",
              "      <td>...</td>\n",
              "      <td>...</td>\n",
              "      <td>...</td>\n",
              "    </tr>\n",
              "    <tr>\n",
              "      <th>537092</th>\n",
              "      <td>1004659</td>\n",
              "      <td>P00196542</td>\n",
              "      <td>F</td>\n",
              "      <td>26-35</td>\n",
              "      <td>14</td>\n",
              "      <td>C</td>\n",
              "      <td>0</td>\n",
              "      <td>0</td>\n",
              "      <td>5</td>\n",
              "      <td>8.0</td>\n",
              "      <td>14.0</td>\n",
              "      <td>5336</td>\n",
              "    </tr>\n",
              "    <tr>\n",
              "      <th>537288</th>\n",
              "      <td>1004692</td>\n",
              "      <td>P00176242</td>\n",
              "      <td>F</td>\n",
              "      <td>26-35</td>\n",
              "      <td>7</td>\n",
              "      <td>C</td>\n",
              "      <td>3</td>\n",
              "      <td>0</td>\n",
              "      <td>8</td>\n",
              "      <td>NaN</td>\n",
              "      <td>NaN</td>\n",
              "      <td>6197</td>\n",
              "    </tr>\n",
              "    <tr>\n",
              "      <th>537289</th>\n",
              "      <td>1004692</td>\n",
              "      <td>P00015642</td>\n",
              "      <td>F</td>\n",
              "      <td>26-35</td>\n",
              "      <td>7</td>\n",
              "      <td>C</td>\n",
              "      <td>3</td>\n",
              "      <td>0</td>\n",
              "      <td>8</td>\n",
              "      <td>16.0</td>\n",
              "      <td>17.0</td>\n",
              "      <td>6187</td>\n",
              "    </tr>\n",
              "    <tr>\n",
              "      <th>537290</th>\n",
              "      <td>1004692</td>\n",
              "      <td>P00069142</td>\n",
              "      <td>F</td>\n",
              "      <td>26-35</td>\n",
              "      <td>7</td>\n",
              "      <td>C</td>\n",
              "      <td>3</td>\n",
              "      <td>0</td>\n",
              "      <td>7</td>\n",
              "      <td>NaN</td>\n",
              "      <td>NaN</td>\n",
              "      <td>16335</td>\n",
              "    </tr>\n",
              "    <tr>\n",
              "      <th>537291</th>\n",
              "      <td>1004692</td>\n",
              "      <td>P00167742</td>\n",
              "      <td>F</td>\n",
              "      <td>26-35</td>\n",
              "      <td>7</td>\n",
              "      <td>C</td>\n",
              "      <td>3</td>\n",
              "      <td>0</td>\n",
              "      <td>7</td>\n",
              "      <td>12.0</td>\n",
              "      <td>NaN</td>\n",
              "      <td>12248</td>\n",
              "    </tr>\n",
              "  </tbody>\n",
              "</table>\n",
              "<p>49348 rows × 12 columns</p>\n",
              "</div>"
            ],
            "text/plain": [
              "        User_ID Product_ID  ... Product_Category_3 Purchase\n",
              "47      1000011  P00192642  ...                NaN     6171\n",
              "48      1000011  P00110842  ...                5.0    19327\n",
              "49      1000011  P00189642  ...                NaN     8027\n",
              "124     1000024  P00346642  ...                NaN     2230\n",
              "125     1000024  P00205642  ...                NaN     6940\n",
              "...         ...        ...  ...                ...      ...\n",
              "537092  1004659  P00196542  ...               14.0     5336\n",
              "537288  1004692  P00176242  ...                NaN     6197\n",
              "537289  1004692  P00015642  ...               17.0     6187\n",
              "537290  1004692  P00069142  ...                NaN    16335\n",
              "537291  1004692  P00167742  ...                NaN    12248\n",
              "\n",
              "[49348 rows x 12 columns]"
            ]
          },
          "metadata": {
            "tags": []
          },
          "execution_count": 14
        }
      ]
    },
    {
      "cell_type": "markdown",
      "metadata": {
        "id": "nY7SWI6GrJLI",
        "colab_type": "text"
      },
      "source": [
        "Já que existem ranges de idades, fica bem mais fácil pra gente obter esses valores, pois podemos só buscar os registros que se enquadram no Age = 26-35 e Gender = F."
      ]
    },
    {
      "cell_type": "code",
      "metadata": {
        "id": "8Nkm22DQVUDy",
        "colab_type": "code",
        "outputId": "28e89ae5-b0d6-4251-bd1a-b6cb324e2b62",
        "colab": {
          "base_uri": "https://localhost:8080/",
          "height": 34
        }
      },
      "source": [
        "def q2():\n",
        "    return bf.query('Gender == \"F\" & Age == \"26-35\"').shape[0]\n",
        "\n",
        "q2()"
      ],
      "execution_count": 15,
      "outputs": [
        {
          "output_type": "execute_result",
          "data": {
            "text/plain": [
              "49348"
            ]
          },
          "metadata": {
            "tags": []
          },
          "execution_count": 15
        }
      ]
    },
    {
      "cell_type": "markdown",
      "metadata": {
        "id": "Cgss6rXPVUD2",
        "colab_type": "text"
      },
      "source": [
        "## Questão 3\n",
        "\n",
        "Quantos usuários únicos há no dataset? Responda como um único escalar."
      ]
    },
    {
      "cell_type": "markdown",
      "metadata": {
        "id": "eEVW6taixmqR",
        "colab_type": "text"
      },
      "source": [
        "Este é fácil, basta considerar que a feature User_ID são os usuários, então é só utilizar o comando ***.nunique()*** para verificar quantos únicos existe no bf inteiro."
      ]
    },
    {
      "cell_type": "code",
      "metadata": {
        "id": "euEPzijSVUD3",
        "colab_type": "code",
        "outputId": "227f0db7-c3bf-4c88-89fd-b971e25fc656",
        "colab": {
          "base_uri": "https://localhost:8080/",
          "height": 34
        }
      },
      "source": [
        "def q3():\n",
        "    return bf.User_ID.nunique()\n",
        "\n",
        "q3()"
      ],
      "execution_count": 16,
      "outputs": [
        {
          "output_type": "execute_result",
          "data": {
            "text/plain": [
              "5891"
            ]
          },
          "metadata": {
            "tags": []
          },
          "execution_count": 16
        }
      ]
    },
    {
      "cell_type": "markdown",
      "metadata": {
        "id": "LSXAFUXLVUD-",
        "colab_type": "text"
      },
      "source": [
        "## Questão 4\n",
        "\n",
        "Quantos tipos de dados diferentes existem no dataset? Responda como um único escalar."
      ]
    },
    {
      "cell_type": "markdown",
      "metadata": {
        "id": "m0FpYHJkx7-5",
        "colab_type": "text"
      },
      "source": [
        "Os tipos de dados nós vimos lá no começo quando executamos o comando ***.info()***, lembra? De forma, fácil, vamos ver apenas o tipos agora:"
      ]
    },
    {
      "cell_type": "code",
      "metadata": {
        "id": "L_3a1X_aVUD_",
        "colab_type": "code",
        "outputId": "d5315a62-bc8e-4f14-f2d9-1daca638d4dc",
        "colab": {
          "base_uri": "https://localhost:8080/",
          "height": 34
        }
      },
      "source": [
        "def q4():\n",
        "    # a letra 'n' na frente do comando '.unique()', faz a soma dos valores que o comando iria nos retornar\n",
        "    return bf.dtypes.nunique()\n",
        "\n",
        "q4()"
      ],
      "execution_count": 17,
      "outputs": [
        {
          "output_type": "execute_result",
          "data": {
            "text/plain": [
              "3"
            ]
          },
          "metadata": {
            "tags": []
          },
          "execution_count": 17
        }
      ]
    },
    {
      "cell_type": "markdown",
      "metadata": {
        "id": "Era4aJ_IVUEC",
        "colab_type": "text"
      },
      "source": [
        "## Questão 5\n",
        "\n",
        "Qual porcentagem dos registros possui ao menos um valor null (`None`, `ǸaN` etc)? Responda como um único escalar entre 0 e 1."
      ]
    },
    {
      "cell_type": "markdown",
      "metadata": {
        "id": "eyHWg2WbyfiI",
        "colab_type": "text"
      },
      "source": [
        "Este item é resolvido com matemática básica, pois é um percentual que precisamos descobrir.\n",
        "\n",
        "Para isso, basta:\n",
        "1.   pegar a quantidade total de linhas com o **_shape[0]_**\n",
        "2.   menos a quantidade total de linhas não nulas com o **_dropna().shape[0]_**\n",
        "3.   dividido pela quantidade total de linhas com o **_shape[0]_**"
      ]
    },
    {
      "cell_type": "code",
      "metadata": {
        "id": "5rByn4-UVUED",
        "colab_type": "code",
        "outputId": "4576d213-83b2-465e-d0a6-bcd13760c06a",
        "colab": {
          "base_uri": "https://localhost:8080/",
          "height": 34
        }
      },
      "source": [
        "def q5():\n",
        "    # (quantidade total de linhas - quantidade total de linhas não nulas) / quantidade total de linhas\n",
        "    return (bf.shape[0] - bf.dropna().shape[0]) / bf.shape[0]\n",
        "\n",
        "q5()"
      ],
      "execution_count": 18,
      "outputs": [
        {
          "output_type": "execute_result",
          "data": {
            "text/plain": [
              "0.6944102891306734"
            ]
          },
          "metadata": {
            "tags": []
          },
          "execution_count": 18
        }
      ]
    },
    {
      "cell_type": "markdown",
      "metadata": {
        "id": "6FprsEwPVUEG",
        "colab_type": "text"
      },
      "source": [
        "## Questão 6\n",
        "\n",
        "Quantos valores null existem na variável (coluna) com o maior número de null? Responda como um único escalar."
      ]
    },
    {
      "cell_type": "markdown",
      "metadata": {
        "id": "czGnhj8R0Xlj",
        "colab_type": "text"
      },
      "source": [
        "Para resolver este, devemos fazer um passo a menos do que o de cima, pois precisamos da quantidade e não do percentual."
      ]
    },
    {
      "cell_type": "code",
      "metadata": {
        "id": "JU84VQs7VUEH",
        "colab_type": "code",
        "outputId": "6263faf3-66b7-45c8-ed2a-c9f5fcf43165",
        "colab": {
          "base_uri": "https://localhost:8080/",
          "height": 34
        }
      },
      "source": [
        "def q6():\n",
        "    # quantidade total de linhas - quantidade total de linhas não nulas\n",
        "    return bf.shape[0] - bf.dropna().shape[0]\n",
        "\n",
        "q6()"
      ],
      "execution_count": 19,
      "outputs": [
        {
          "output_type": "execute_result",
          "data": {
            "text/plain": [
              "373299"
            ]
          },
          "metadata": {
            "tags": []
          },
          "execution_count": 19
        }
      ]
    },
    {
      "cell_type": "markdown",
      "metadata": {
        "id": "Ze6bAxXeVUEL",
        "colab_type": "text"
      },
      "source": [
        "## Questão 7\n",
        "\n",
        "Qual o valor mais frequente (sem contar nulls) em `Product_Category_3`? Responda como um único escalar."
      ]
    },
    {
      "cell_type": "markdown",
      "metadata": {
        "id": "i7GwPn3W0r6r",
        "colab_type": "text"
      },
      "source": [
        "Para o pessoal de estatistica, o valor mais frequente é chamado de **MODA**. No Python, podemos encontrá-la utilizando o comando **_.mode()_** que p **Pandas** nos fornece."
      ]
    },
    {
      "cell_type": "code",
      "metadata": {
        "id": "BmLhoh6fVUEL",
        "colab_type": "code",
        "outputId": "db4f7d2c-ea2e-4e78-81ee-cdd348068932",
        "colab": {
          "base_uri": "https://localhost:8080/",
          "height": 34
        }
      },
      "source": [
        "def q7():\n",
        "    return float(bf.Product_Category_3.mode())\n",
        "\n",
        "q7()"
      ],
      "execution_count": 20,
      "outputs": [
        {
          "output_type": "execute_result",
          "data": {
            "text/plain": [
              "16.0"
            ]
          },
          "metadata": {
            "tags": []
          },
          "execution_count": 20
        }
      ]
    },
    {
      "cell_type": "markdown",
      "metadata": {
        "id": "31FmSV14VUEQ",
        "colab_type": "text"
      },
      "source": [
        "## Questão 8\n",
        "\n",
        "Qual a nova média da variável (coluna) `Purchase` após sua normalização? Responda como um único escalar."
      ]
    },
    {
      "cell_type": "markdown",
      "metadata": {
        "id": "6pjal4432ZCa",
        "colab_type": "text"
      },
      "source": [
        "Primeiro, precisamos entender o que é ***normalização***: Normalização é o processo de ajustar dados em uma escala comum, para que diferentes tipos de dados possam ser comparados."
      ]
    },
    {
      "cell_type": "markdown",
      "metadata": {
        "id": "6tZOWg2m2v8P",
        "colab_type": "text"
      },
      "source": [
        "Caso não tenha ficado claro, vamos usar a fórmula e fazer passo a passo.\n",
        "\n",
        "A fórmula é assim:\n",
        "normalizado = (total - valor minimo) / (valor máximo - valor mínimo)\n",
        "\n",
        "![Fórmula para normalizar um valor](https://miro.medium.com/max/682/0*oRhJXkyKqqYp8--e.)"
      ]
    },
    {
      "cell_type": "code",
      "metadata": {
        "id": "iVBg-ssf-rfp",
        "colab_type": "code",
        "colab": {
          "base_uri": "https://localhost:8080/",
          "height": 221
        },
        "outputId": "1f89c8e3-e1a4-4981-e96b-ff0bd651de3a"
      },
      "source": [
        "# Primeira parte\n",
        "(bf['Purchase'] - bf['Purchase'].min())"
      ],
      "execution_count": 21,
      "outputs": [
        {
          "output_type": "execute_result",
          "data": {
            "text/plain": [
              "0          8185\n",
              "1         15015\n",
              "2          1237\n",
              "3           872\n",
              "4          7784\n",
              "          ...  \n",
              "537572    11479\n",
              "537573    19011\n",
              "537574     7858\n",
              "537575     6987\n",
              "537576     6690\n",
              "Name: Purchase, Length: 537577, dtype: int64"
            ]
          },
          "metadata": {
            "tags": []
          },
          "execution_count": 21
        }
      ]
    },
    {
      "cell_type": "code",
      "metadata": {
        "id": "jg7eeCI--vy7",
        "colab_type": "code",
        "colab": {
          "base_uri": "https://localhost:8080/",
          "height": 34
        },
        "outputId": "bedf9f34-3449-4334-c1d8-0a93b87025db"
      },
      "source": [
        "# Segunda parte\n",
        "(bf['Purchase'].max() - bf['Purchase'].min())"
      ],
      "execution_count": 22,
      "outputs": [
        {
          "output_type": "execute_result",
          "data": {
            "text/plain": [
              "23776"
            ]
          },
          "metadata": {
            "tags": []
          },
          "execution_count": 22
        }
      ]
    },
    {
      "cell_type": "code",
      "metadata": {
        "id": "G_S9llZX5g89",
        "colab_type": "code",
        "colab": {
          "base_uri": "https://localhost:8080/",
          "height": 34
        },
        "outputId": "525ae578-29ff-4f91-f245-b499387a31e6"
      },
      "source": [
        "# Terceira parte / agora é só dividir a Primeira pela Segunda parte e aplicar o método .mean()\n",
        "normalized = (bf['Purchase'] - bf['Purchase'].min()) / (bf['Purchase'].max() - bf['Purchase'].min())\n",
        "float(normalized.mean())"
      ],
      "execution_count": 23,
      "outputs": [
        {
          "output_type": "execute_result",
          "data": {
            "text/plain": [
              "0.38479390362696736"
            ]
          },
          "metadata": {
            "tags": []
          },
          "execution_count": 23
        }
      ]
    },
    {
      "cell_type": "code",
      "metadata": {
        "id": "m6MzBYIiVUER",
        "colab_type": "code",
        "outputId": "d8e3e064-4734-4af0-db12-c4330ec3f402",
        "colab": {
          "base_uri": "https://localhost:8080/",
          "height": 34
        }
      },
      "source": [
        "def q8():\n",
        "    return float(normalized.mean())\n",
        "\n",
        "q8()"
      ],
      "execution_count": 24,
      "outputs": [
        {
          "output_type": "execute_result",
          "data": {
            "text/plain": [
              "0.38479390362696736"
            ]
          },
          "metadata": {
            "tags": []
          },
          "execution_count": 24
        }
      ]
    },
    {
      "cell_type": "markdown",
      "metadata": {
        "id": "vPTRIuo8VUEU",
        "colab_type": "text"
      },
      "source": [
        "## Questão 9\n",
        "\n",
        "Quantas ocorrências entre -1 e 1 inclusive existem da variáel `Purchase` após sua padronização? Responda como um único escalar."
      ]
    },
    {
      "cell_type": "markdown",
      "metadata": {
        "id": "RzgtsoHiB8l5",
        "colab_type": "text"
      },
      "source": [
        "Para padronizar estes valores entre -1 e 1, utilizamos a seguinte fórmula:\n",
        "\n",
        "![Fórmula para a padronização](https://miro.medium.com/max/1024/0*PXGPVYIxyI_IEHP7.)\n",
        "\n",
        "Ou seja, para encontrar a padronização (z), a fórmula é:\n",
        "\n",
        "(bf['Purchase'] - média) / desvio padrão"
      ]
    },
    {
      "cell_type": "code",
      "metadata": {
        "id": "unXZVq2xDExl",
        "colab_type": "code",
        "outputId": "0ee36a12-ff11-4c7d-edee-d683c6011da2",
        "colab": {
          "base_uri": "https://localhost:8080/",
          "height": 221
        }
      },
      "source": [
        "# O Pandas já nos fornece os comandas .mean, para média, e .std, para o desvio padrão\n",
        "standardized = (bf['Purchase'] - bf['Purchase'].mean()) / bf['Purchase'].std()\n",
        "# Vamos utilizar o comando .between() que nos diz se o valor da linha está entre os valores que colocamos no betwen (-1 e 1)\n",
        "standardized.between(-1, 1)"
      ],
      "execution_count": 25,
      "outputs": [
        {
          "output_type": "execute_result",
          "data": {
            "text/plain": [
              "0          True\n",
              "1         False\n",
              "2         False\n",
              "3         False\n",
              "4          True\n",
              "          ...  \n",
              "537572     True\n",
              "537573    False\n",
              "537574     True\n",
              "537575     True\n",
              "537576     True\n",
              "Name: Purchase, Length: 537577, dtype: bool"
            ]
          },
          "metadata": {
            "tags": []
          },
          "execution_count": 25
        }
      ]
    },
    {
      "cell_type": "code",
      "metadata": {
        "id": "1wKbFgkdVUEU",
        "colab_type": "code",
        "outputId": "5719557a-aac4-4c37-bcc6-025a70984af4",
        "colab": {
          "base_uri": "https://localhost:8080/",
          "height": 34
        }
      },
      "source": [
        "def q9():\n",
        "    # Agora que já temos os TRUE e FALSE, basta somar para termos apenas os TRUE\n",
        "    return int(standardized.between(-1, 1).sum())\n",
        "\n",
        "q9()"
      ],
      "execution_count": 26,
      "outputs": [
        {
          "output_type": "execute_result",
          "data": {
            "text/plain": [
              "348631"
            ]
          },
          "metadata": {
            "tags": []
          },
          "execution_count": 26
        }
      ]
    },
    {
      "cell_type": "markdown",
      "metadata": {
        "id": "J31eMdoyVUEX",
        "colab_type": "text"
      },
      "source": [
        "## Questão 10\n",
        "\n",
        "Podemos afirmar que se uma observação é null em `Product_Category_2` ela também o é em `Product_Category_3`? Responda com um bool (`True`, `False`)."
      ]
    },
    {
      "cell_type": "markdown",
      "metadata": {
        "id": "hVfx9IGfHQNv",
        "colab_type": "text"
      },
      "source": [
        "Vamos explorar um pouco os valores de ***Product_Category_2***"
      ]
    },
    {
      "cell_type": "code",
      "metadata": {
        "id": "-k5VubHqHUiK",
        "colab_type": "code",
        "outputId": "ceea1360-6167-418a-cda9-3ef54678144f",
        "colab": {
          "base_uri": "https://localhost:8080/",
          "height": 34
        }
      },
      "source": [
        "# Quantidade de valores nulos em Product_Category_2\n",
        "len(bf.query(\"Product_Category_2 == 'NaN'\"))"
      ],
      "execution_count": 27,
      "outputs": [
        {
          "output_type": "execute_result",
          "data": {
            "text/plain": [
              "166986"
            ]
          },
          "metadata": {
            "tags": []
          },
          "execution_count": 27
        }
      ]
    },
    {
      "cell_type": "code",
      "metadata": {
        "id": "XBPnHnHkHbcs",
        "colab_type": "code",
        "outputId": "c6c6fccc-7d1a-47de-9d86-32d867f23a5b",
        "colab": {
          "base_uri": "https://localhost:8080/",
          "height": 34
        }
      },
      "source": [
        "# Quantidade de valores nulos em Product_Category_2 que NÃO são nulos em Product_Category_3\n",
        "len(bf.query(\"Product_Category_2 == 'NaN' & Product_Category_3 != 'NaN'\"))"
      ],
      "execution_count": 28,
      "outputs": [
        {
          "output_type": "execute_result",
          "data": {
            "text/plain": [
              "0"
            ]
          },
          "metadata": {
            "tags": []
          },
          "execution_count": 28
        }
      ]
    },
    {
      "cell_type": "markdown",
      "metadata": {
        "id": "2_CXt_fSH3QF",
        "colab_type": "text"
      },
      "source": [
        "Parece que sempre que Product_Category_2 for nulos, Product_Category_3 também será.\n",
        "\n",
        "Vamos tirar a prova real:"
      ]
    },
    {
      "cell_type": "code",
      "metadata": {
        "id": "7cLJ9WW-H2dq",
        "colab_type": "code",
        "outputId": "856cbcf0-7f3e-4eda-c1fe-ae63ffe52ab3",
        "colab": {
          "base_uri": "https://localhost:8080/",
          "height": 34
        }
      },
      "source": [
        "# Quantidade de valores nulos em Product_Category_2 que TAMBÉM são nulos em Product_Category_3\n",
        "len(bf.query(\"Product_Category_2 == 'NaN' & Product_Category_3 == 'NaN'\"))"
      ],
      "execution_count": 29,
      "outputs": [
        {
          "output_type": "execute_result",
          "data": {
            "text/plain": [
              "166986"
            ]
          },
          "metadata": {
            "tags": []
          },
          "execution_count": 29
        }
      ]
    },
    {
      "cell_type": "code",
      "metadata": {
        "id": "VYNZBgXiVUEY",
        "colab_type": "code",
        "outputId": "6f3faac7-7510-43cf-cec4-8cf416efe40c",
        "colab": {
          "base_uri": "https://localhost:8080/",
          "height": 34
        }
      },
      "source": [
        "def q10():\n",
        "    # Se Product_Category_2 for nulo e Product_Category_3 também, então é TRUE.\n",
        "    # Ou seja, sempre que o Product_Category_2 for nulo, Product_Category_3 também será\n",
        "    return bool(len(bf.query(\"Product_Category_2 == 'NaN' & Product_Category_3 == 'NaN'\")))\n",
        "\n",
        "q10()"
      ],
      "execution_count": 30,
      "outputs": [
        {
          "output_type": "execute_result",
          "data": {
            "text/plain": [
              "True"
            ]
          },
          "metadata": {
            "tags": []
          },
          "execution_count": 30
        }
      ]
    },
    {
      "cell_type": "markdown",
      "metadata": {
        "id": "oUnpi_Rce9Nx",
        "colab_type": "text"
      },
      "source": [
        "## E aí, você conseguiu entender tudo sobre o desafio? Caso tenha dúvidas, fique a vontade para entrar em contato comigo.\n",
        "\n",
        "## Acompanhe Descomplicando a Ciência de Dados para ver os próximos desafios :D"
      ]
    }
  ]
}